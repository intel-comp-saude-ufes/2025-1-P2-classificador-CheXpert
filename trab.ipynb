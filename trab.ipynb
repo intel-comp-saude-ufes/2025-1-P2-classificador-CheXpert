{
 "cells": [
  {
   "cell_type": "code",
   "execution_count": 1,
   "metadata": {},
   "outputs": [
    {
     "name": "stderr",
     "output_type": "stream",
     "text": [
      "/home/matheusmartin/.local/lib/python3.10/site-packages/tqdm/auto.py:21: TqdmWarning: IProgress not found. Please update jupyter and ipywidgets. See https://ipywidgets.readthedocs.io/en/stable/user_install.html\n",
      "  from .autonotebook import tqdm as notebook_tqdm\n"
     ]
    }
   ],
   "source": [
    "from lib.training import train\n",
    "from lib.data import get_data_chest_x_ray_image\n",
    "from lib.utils import get_device\n",
    "from torch import nn \n",
    "import torch.optim as opt"
   ]
  },
  {
   "cell_type": "code",
   "execution_count": 2,
   "metadata": {},
   "outputs": [],
   "source": [
    "class ExperimentConfig:\n",
    "    def __init__(self, name, model_fn, loss_fn, optimizer_fn):\n",
    "        self.name = name\n",
    "        self.model_fn = model_fn\n",
    "        self.loss_fn = loss_fn\n",
    "        self.optimizer_fn = optimizer_fn"
   ]
  },
  {
   "cell_type": "code",
   "execution_count": 3,
   "metadata": {},
   "outputs": [],
   "source": [
    "import os\n",
    "from torch.utils.data import Dataset, DataLoader, Subset\n",
    "from lib.data import TransformDataset\n",
    "\n",
    "def prepare_dataloaders(train_dataset : Dataset, val_dataset : Dataset):\n",
    "    num_workers = max(1,os.cpu_count()-1)\n",
    "    \n",
    "    train_dataloader = DataLoader(train_dataset, batch_size=128, shuffle=True, num_workers=num_workers, pin_memory=True)\n",
    "    val_dataloader = DataLoader(val_dataset, batch_size=128, shuffle=True, num_workers=num_workers, pin_memory=True)\n",
    "    return train_dataloader, val_dataloader\n",
    "\n",
    "def get_my_metrics(device, n_classes):\n",
    "    import torchmetrics\n",
    "    from lib.metrics import MetricCollection\n",
    "    \n",
    "    metrics = MetricCollection(device=device)\n",
    "    metrics.register('accuracy', torchmetrics.Accuracy(task='multiclass', num_classes=n_classes))\n",
    "    metrics.register('precision', torchmetrics.Precision(task='multiclass', num_classes=n_classes, average='macro'))\n",
    "    metrics.register('recall', torchmetrics.Recall(task='multiclass', num_classes=n_classes, average='macro'))\n",
    "    metrics.register('f1_score', torchmetrics.F1Score(task='multiclass', num_classes=n_classes, average='macro'))\n",
    "    \n",
    "    return metrics\n",
    "\n",
    "def experiment(config : ExperimentConfig, data_dict, device, metrics, freeze=False, epochs=30, warmup=5, patience=10):\n",
    "    \n",
    "    save_path = f'experiments/{config.name}_folder'\n",
    "    os.makedirs(save_path, exist_ok=True)   \n",
    "    \n",
    "    folds = data_dict['folds']\n",
    "    base_dataset = data_dict['base_dataset']\n",
    "    train_transform = data_dict['train_transform']\n",
    "    val_transform = data_dict['val_transform']\n",
    "    \n",
    "    for fold_idx, (train_idx, val_idx) in enumerate(folds):\n",
    "        print(f\"\\n--- Fold {fold_idx+1} ---\")\n",
    "        \n",
    "        model = config.model_fn().to(device=device)\n",
    "        \n",
    "        if freeze: model.freeze()\n",
    "        else : model.unfreeze()\n",
    "\n",
    "        optimizer = config.optimizer_fn(model.parameters())\n",
    "        loss_fn = config.loss_fn()\n",
    "        \n",
    "        train_subset = Subset(base_dataset, train_idx)\n",
    "        val_subset = Subset(base_dataset, val_idx)\n",
    "\n",
    "        train_dataset = TransformDataset(train_subset, train_transform)\n",
    "        val_dataset = TransformDataset(val_subset, val_transform)\n",
    "\n",
    "        train_dataloader, val_dataloader = prepare_dataloaders(train_dataset, val_dataset)\n",
    "        \n",
    "        save_name = f'{config.name}_fold={fold_idx+1}.pt'\n",
    "        \n",
    "        history, model = train(\n",
    "            model, train_dataloader, val_dataloader,\n",
    "            loss_fn, optimizer,\n",
    "            save_path=save_path, save_name=save_name,\n",
    "            device=device, metrics=metrics, verbose=True,\n",
    "            epochs=epochs, warmup=warmup, patience=patience,\n",
    "        )"
   ]
  },
  {
   "cell_type": "code",
   "execution_count": 4,
   "metadata": {},
   "outputs": [],
   "source": [
    "data_dict = get_data_chest_x_ray_image(img_size=(224, 224), kfold=5)    "
   ]
  },
  {
   "cell_type": "code",
   "execution_count": 5,
   "metadata": {},
   "outputs": [],
   "source": [
    "from lib.models import MyResnet, MyMobileNet, MyDenseNet\n",
    "\n",
    "device = get_device()\n",
    "n_classes = len(data_dict['classes'])\n",
    "metrics = get_my_metrics(device, n_classes)"
   ]
  },
  {
   "cell_type": "code",
   "execution_count": 6,
   "metadata": {},
   "outputs": [
    {
     "name": "stdout",
     "output_type": "stream",
     "text": [
      "\n",
      "--- Fold 1 ---\n",
      "Train Config:\n",
      "Epochs: 50\n",
      "Device: cuda\n",
      "Model Arch: MyResnet\n",
      "Criterion : CrossEntropyLoss\n",
      "Optimizer : Adam\n"
     ]
    },
    {
     "name": "stderr",
     "output_type": "stream",
     "text": [
      "Epoch 24 | Train Loss: 0.0402 | Train Accuracy: 0.99% | Val Loss/ Min: 0.2274/0.0943 | Val Accuracy: 0.92% | New Best? False:  46%|████▌     | 23/50 [08:41<10:11, 22.66s/it]\n"
     ]
    },
    {
     "name": "stdout",
     "output_type": "stream",
     "text": [
      "\n",
      "--- Fold 2 ---\n",
      "Train Config:\n",
      "Epochs: 50\n",
      "Device: cuda\n",
      "Model Arch: MyResnet\n",
      "Criterion : CrossEntropyLoss\n",
      "Optimizer : Adam\n"
     ]
    },
    {
     "name": "stderr",
     "output_type": "stream",
     "text": [
      "Epoch 34 | Train Loss: 0.0480 | Train Accuracy: 0.98% | Val Loss/ Min: 0.1627/0.0783 | Val Accuracy: 0.94% | New Best? False:  66%|██████▌   | 33/50 [12:08<06:15, 22.09s/it]\n"
     ]
    },
    {
     "name": "stdout",
     "output_type": "stream",
     "text": [
      "\n",
      "--- Fold 3 ---\n",
      "Train Config:\n",
      "Epochs: 50\n",
      "Device: cuda\n",
      "Model Arch: MyResnet\n",
      "Criterion : CrossEntropyLoss\n",
      "Optimizer : Adam\n"
     ]
    },
    {
     "name": "stderr",
     "output_type": "stream",
     "text": [
      "Epoch 20 | Train Loss: 0.0551 | Train Accuracy: 0.98% | Val Loss/ Min: 0.1982/0.0825 | Val Accuracy: 0.94% | New Best? False:  38%|███▊      | 19/50 [07:15<11:51, 22.94s/it]\n"
     ]
    },
    {
     "name": "stdout",
     "output_type": "stream",
     "text": [
      "\n",
      "--- Fold 4 ---\n",
      "Train Config:\n",
      "Epochs: 50\n",
      "Device: cuda\n",
      "Model Arch: MyResnet\n",
      "Criterion : CrossEntropyLoss\n",
      "Optimizer : Adam\n"
     ]
    },
    {
     "name": "stderr",
     "output_type": "stream",
     "text": [
      "Epoch 22 | Train Loss: 0.0333 | Train Accuracy: 0.99% | Val Loss/ Min: 0.2247/0.0739 | Val Accuracy: 0.93% | New Best? False:  42%|████▏     | 21/50 [07:55<10:57, 22.66s/it]\n"
     ]
    },
    {
     "name": "stdout",
     "output_type": "stream",
     "text": [
      "\n",
      "--- Fold 5 ---\n",
      "Train Config:\n",
      "Epochs: 50\n",
      "Device: cuda\n",
      "Model Arch: MyResnet\n",
      "Criterion : CrossEntropyLoss\n",
      "Optimizer : Adam\n"
     ]
    },
    {
     "name": "stderr",
     "output_type": "stream",
     "text": [
      "Epoch 29 | Train Loss: 0.0555 | Train Accuracy: 0.98% | Val Loss/ Min: 0.0933/0.0693 | Val Accuracy: 0.96% | New Best? False:  56%|█████▌    | 28/50 [10:26<08:12, 22.39s/it]\n"
     ]
    }
   ],
   "source": [
    "resnet18_config = ExperimentConfig(\n",
    "    name=\"resnet18\",\n",
    "    model_fn=lambda: MyResnet(resnet_version='resnet18', n_classes=n_classes),\n",
    "    loss_fn=lambda: nn.CrossEntropyLoss(),\n",
    "    optimizer_fn=lambda params: opt.Adam(params, lr=1e-3)\n",
    ")      \n",
    "experiment(resnet18_config, data_dict, device, metrics, freeze=False, epochs=50)"
   ]
  },
  {
   "cell_type": "code",
   "execution_count": 7,
   "metadata": {},
   "outputs": [
    {
     "name": "stdout",
     "output_type": "stream",
     "text": [
      "\n",
      "--- Fold 1 ---\n",
      "Train Config:\n",
      "Epochs: 50\n",
      "Device: cuda\n",
      "Model Arch: MyResnet\n",
      "Criterion : CrossEntropyLoss\n",
      "Optimizer : Adam\n"
     ]
    },
    {
     "name": "stderr",
     "output_type": "stream",
     "text": [
      "Epoch 17 | Train Loss: 0.0537 | Train Accuracy: 0.98% | Val Loss/ Min: 0.3284/0.1349 | Val Accuracy: 0.88% | New Best? False:  32%|███▏      | 16/50 [06:20<13:29, 23.81s/it]\n"
     ]
    },
    {
     "name": "stdout",
     "output_type": "stream",
     "text": [
      "\n",
      "--- Fold 2 ---\n",
      "Train Config:\n",
      "Epochs: 50\n",
      "Device: cuda\n",
      "Model Arch: MyResnet\n",
      "Criterion : CrossEntropyLoss\n",
      "Optimizer : Adam\n"
     ]
    },
    {
     "name": "stderr",
     "output_type": "stream",
     "text": [
      "Epoch 34 | Train Loss: 0.0351 | Train Accuracy: 0.99% | Val Loss/ Min: 0.5449/0.0727 | Val Accuracy: 0.92% | New Best? False:  66%|██████▌   | 33/50 [12:31<06:26, 22.76s/it]\n"
     ]
    },
    {
     "name": "stdout",
     "output_type": "stream",
     "text": [
      "\n",
      "--- Fold 3 ---\n",
      "Train Config:\n",
      "Epochs: 50\n",
      "Device: cuda\n",
      "Model Arch: MyResnet\n",
      "Criterion : CrossEntropyLoss\n",
      "Optimizer : Adam\n"
     ]
    },
    {
     "name": "stderr",
     "output_type": "stream",
     "text": [
      "Epoch 28 | Train Loss: 0.0364 | Train Accuracy: 0.99% | Val Loss/ Min: 0.1702/0.0855 | Val Accuracy: 0.94% | New Best? False:  54%|█████▍    | 27/50 [10:35<09:01, 23.54s/it]\n"
     ]
    },
    {
     "name": "stdout",
     "output_type": "stream",
     "text": [
      "\n",
      "--- Fold 4 ---\n",
      "Train Config:\n",
      "Epochs: 50\n",
      "Device: cuda\n",
      "Model Arch: MyResnet\n",
      "Criterion : CrossEntropyLoss\n",
      "Optimizer : Adam\n"
     ]
    },
    {
     "name": "stderr",
     "output_type": "stream",
     "text": [
      "Epoch 28 | Train Loss: 0.0690 | Train Accuracy: 0.98% | Val Loss/ Min: 0.1679/0.0676 | Val Accuracy: 0.96% | New Best? False:  54%|█████▍    | 27/50 [10:29<08:56, 23.32s/it]\n"
     ]
    },
    {
     "name": "stdout",
     "output_type": "stream",
     "text": [
      "\n",
      "--- Fold 5 ---\n",
      "Train Config:\n",
      "Epochs: 50\n",
      "Device: cuda\n",
      "Model Arch: MyResnet\n",
      "Criterion : CrossEntropyLoss\n",
      "Optimizer : Adam\n"
     ]
    },
    {
     "name": "stderr",
     "output_type": "stream",
     "text": [
      "Epoch 23 | Train Loss: 0.0570 | Train Accuracy: 0.98% | Val Loss/ Min: 0.1386/0.0726 | Val Accuracy: 0.97% | New Best? False:  44%|████▍     | 22/50 [08:26<10:44, 23.03s/it]\n"
     ]
    }
   ],
   "source": [
    "resnet34_config = ExperimentConfig(\n",
    "    name=\"resnet34\",\n",
    "    model_fn=lambda: MyResnet(resnet_version='resnet34', n_classes=n_classes),\n",
    "    loss_fn=lambda: nn.CrossEntropyLoss(),\n",
    "    optimizer_fn=lambda params: opt.Adam(params, lr=1e-3)\n",
    ")\n",
    "experiment(resnet34_config, data_dict, device, metrics, freeze=False, epochs=50)"
   ]
  },
  {
   "cell_type": "code",
   "execution_count": 8,
   "metadata": {},
   "outputs": [
    {
     "name": "stdout",
     "output_type": "stream",
     "text": [
      "\n",
      "--- Fold 1 ---\n",
      "Train Config:\n",
      "Epochs: 50\n",
      "Device: cuda\n",
      "Model Arch: MyMobileNet\n",
      "Criterion : CrossEntropyLoss\n",
      "Optimizer : Adam\n"
     ]
    },
    {
     "name": "stderr",
     "output_type": "stream",
     "text": [
      "Epoch 23 | Train Loss: 0.0202 | Train Accuracy: 0.99% | Val Loss/ Min: 0.1405/0.0822 | Val Accuracy: 0.97% | New Best? False:  44%|████▍     | 22/50 [08:37<10:58, 23.52s/it]\n"
     ]
    },
    {
     "name": "stdout",
     "output_type": "stream",
     "text": [
      "\n",
      "--- Fold 2 ---\n",
      "Train Config:\n",
      "Epochs: 50\n",
      "Device: cuda\n",
      "Model Arch: MyMobileNet\n",
      "Criterion : CrossEntropyLoss\n",
      "Optimizer : Adam\n"
     ]
    },
    {
     "name": "stderr",
     "output_type": "stream",
     "text": [
      "Epoch 16 | Train Loss: 0.0462 | Train Accuracy: 0.99% | Val Loss/ Min: 0.1084/0.0911 | Val Accuracy: 0.98% | New Best? False:  30%|███       | 15/50 [05:52<13:42, 23.51s/it]\n"
     ]
    },
    {
     "name": "stdout",
     "output_type": "stream",
     "text": [
      "\n",
      "--- Fold 3 ---\n",
      "Train Config:\n",
      "Epochs: 50\n",
      "Device: cuda\n",
      "Model Arch: MyMobileNet\n",
      "Criterion : CrossEntropyLoss\n",
      "Optimizer : Adam\n"
     ]
    },
    {
     "name": "stderr",
     "output_type": "stream",
     "text": [
      "Epoch 31 | Train Loss: 0.0427 | Train Accuracy: 0.98% | Val Loss/ Min: 0.1246/0.0945 | Val Accuracy: 0.97% | New Best? False:  60%|██████    | 30/50 [11:33<07:42, 23.10s/it]\n"
     ]
    },
    {
     "name": "stdout",
     "output_type": "stream",
     "text": [
      "\n",
      "--- Fold 4 ---\n",
      "Train Config:\n",
      "Epochs: 50\n",
      "Device: cuda\n",
      "Model Arch: MyMobileNet\n",
      "Criterion : CrossEntropyLoss\n",
      "Optimizer : Adam\n"
     ]
    },
    {
     "name": "stderr",
     "output_type": "stream",
     "text": [
      "Epoch 30 | Train Loss: 0.0400 | Train Accuracy: 0.99% | Val Loss/ Min: 0.1153/0.0673 | Val Accuracy: 0.97% | New Best? False:  58%|█████▊    | 29/50 [10:47<07:48, 22.31s/it]\n"
     ]
    },
    {
     "name": "stdout",
     "output_type": "stream",
     "text": [
      "\n",
      "--- Fold 5 ---\n",
      "Train Config:\n",
      "Epochs: 50\n",
      "Device: cuda\n",
      "Model Arch: MyMobileNet\n",
      "Criterion : CrossEntropyLoss\n",
      "Optimizer : Adam\n"
     ]
    },
    {
     "name": "stderr",
     "output_type": "stream",
     "text": [
      "Epoch 32 | Train Loss: 0.0195 | Train Accuracy: 0.99% | Val Loss/ Min: 0.3685/0.0722 | Val Accuracy: 0.98% | New Best? False:  62%|██████▏   | 31/50 [11:44<07:11, 22.74s/it]\n"
     ]
    }
   ],
   "source": [
    "mobilenet_v2_config = ExperimentConfig(\n",
    "    name=\"mobilenet_v2\",\n",
    "    model_fn=lambda: MyMobileNet(mobilenet_version='mobilenet_v2', n_classes=n_classes),\n",
    "    loss_fn=lambda: nn.CrossEntropyLoss(),\n",
    "    optimizer_fn=lambda params: opt.Adam(params, lr=1e-3)\n",
    ")\n",
    "experiment(mobilenet_v2_config, data_dict, device, metrics, freeze=False, epochs=50)"
   ]
  },
  {
   "cell_type": "code",
   "execution_count": 9,
   "metadata": {},
   "outputs": [
    {
     "name": "stdout",
     "output_type": "stream",
     "text": [
      "\n",
      "--- Fold 1 ---\n",
      "Train Config:\n",
      "Epochs: 50\n",
      "Device: cuda\n",
      "Model Arch: MyMobileNet\n",
      "Criterion : CrossEntropyLoss\n",
      "Optimizer : Adam\n"
     ]
    },
    {
     "name": "stderr",
     "output_type": "stream",
     "text": [
      "Epoch 35 | Train Loss: 0.0097 | Train Accuracy: 1.00% | Val Loss/ Min: 0.1163/0.1087 | Val Accuracy: 0.97% | New Best? False:  68%|██████▊   | 34/50 [12:46<06:00, 22.54s/it]\n"
     ]
    },
    {
     "name": "stdout",
     "output_type": "stream",
     "text": [
      "\n",
      "--- Fold 2 ---\n",
      "Train Config:\n",
      "Epochs: 50\n",
      "Device: cuda\n",
      "Model Arch: MyMobileNet\n",
      "Criterion : CrossEntropyLoss\n",
      "Optimizer : Adam\n"
     ]
    },
    {
     "name": "stderr",
     "output_type": "stream",
     "text": [
      "Epoch 26 | Train Loss: 0.0158 | Train Accuracy: 0.99% | Val Loss/ Min: 0.1022/0.0791 | Val Accuracy: 0.97% | New Best? False:  50%|█████     | 25/50 [09:31<09:31, 22.88s/it]\n"
     ]
    },
    {
     "name": "stdout",
     "output_type": "stream",
     "text": [
      "\n",
      "--- Fold 3 ---\n",
      "Train Config:\n",
      "Epochs: 50\n",
      "Device: cuda\n",
      "Model Arch: MyMobileNet\n",
      "Criterion : CrossEntropyLoss\n",
      "Optimizer : Adam\n"
     ]
    },
    {
     "name": "stderr",
     "output_type": "stream",
     "text": [
      "Epoch 23 | Train Loss: 0.0088 | Train Accuracy: 1.00% | Val Loss/ Min: 0.1425/0.0910 | Val Accuracy: 0.97% | New Best? False:  44%|████▍     | 22/50 [08:41<11:03, 23.71s/it]\n"
     ]
    },
    {
     "name": "stdout",
     "output_type": "stream",
     "text": [
      "\n",
      "--- Fold 4 ---\n",
      "Train Config:\n",
      "Epochs: 50\n",
      "Device: cuda\n",
      "Model Arch: MyMobileNet\n",
      "Criterion : CrossEntropyLoss\n",
      "Optimizer : Adam\n"
     ]
    },
    {
     "name": "stderr",
     "output_type": "stream",
     "text": [
      "Epoch 34 | Train Loss: 0.0115 | Train Accuracy: 1.00% | Val Loss/ Min: 0.1603/0.0805 | Val Accuracy: 0.98% | New Best? False:  66%|██████▌   | 33/50 [12:28<06:25, 22.68s/it]\n"
     ]
    },
    {
     "name": "stdout",
     "output_type": "stream",
     "text": [
      "\n",
      "--- Fold 5 ---\n",
      "Train Config:\n",
      "Epochs: 50\n",
      "Device: cuda\n",
      "Model Arch: MyMobileNet\n",
      "Criterion : CrossEntropyLoss\n",
      "Optimizer : Adam\n"
     ]
    },
    {
     "name": "stderr",
     "output_type": "stream",
     "text": [
      "Epoch 16 | Train Loss: 0.0341 | Train Accuracy: 0.98% | Val Loss/ Min: 0.1228/0.1113 | Val Accuracy: 0.96% | New Best? False:  30%|███       | 15/50 [05:50<13:37, 23.35s/it]\n"
     ]
    }
   ],
   "source": [
    "mobilenet_v3_large_config = ExperimentConfig(\n",
    "    name=\"mobilenet_v3_large\",\n",
    "    model_fn=lambda: MyMobileNet(mobilenet_version='mobilenet_v3_large', n_classes=n_classes),\n",
    "    loss_fn=lambda: nn.CrossEntropyLoss(),\n",
    "    optimizer_fn=lambda params: opt.Adam(params, lr=1e-3)\n",
    ")\n",
    "experiment(mobilenet_v3_large_config, data_dict, device, metrics, freeze=False, epochs=50)"
   ]
  },
  {
   "cell_type": "code",
   "execution_count": 10,
   "metadata": {},
   "outputs": [
    {
     "name": "stdout",
     "output_type": "stream",
     "text": [
      "\n",
      "--- Fold 1 ---\n",
      "Train Config:\n",
      "Epochs: 50\n",
      "Device: cuda\n",
      "Model Arch: MyDenseNet\n",
      "Criterion : CrossEntropyLoss\n",
      "Optimizer : Adam\n"
     ]
    },
    {
     "name": "stderr",
     "output_type": "stream",
     "text": [
      "Epoch 19 | Train Loss: 2.3986 | Train Accuracy: 0.83% | Val Loss/ Min: 569.7438/0.1403 | Val Accuracy: 0.61% | New Best? False:  36%|███▌      | 18/50 [07:33<13:25, 25.17s/it] \n"
     ]
    },
    {
     "name": "stdout",
     "output_type": "stream",
     "text": [
      "\n",
      "--- Fold 2 ---\n",
      "Train Config:\n",
      "Epochs: 50\n",
      "Device: cuda\n",
      "Model Arch: MyDenseNet\n",
      "Criterion : CrossEntropyLoss\n",
      "Optimizer : Adam\n"
     ]
    },
    {
     "name": "stderr",
     "output_type": "stream",
     "text": [
      "Epoch 30 | Train Loss: 1.1637 | Train Accuracy: 0.86% | Val Loss/ Min: 0.8731/0.3396 | Val Accuracy: 0.79% | New Best? False:  58%|█████▊    | 29/50 [11:44<08:30, 24.29s/it]   \n"
     ]
    },
    {
     "name": "stdout",
     "output_type": "stream",
     "text": [
      "\n",
      "--- Fold 3 ---\n",
      "Train Config:\n",
      "Epochs: 50\n",
      "Device: cuda\n",
      "Model Arch: MyDenseNet\n",
      "Criterion : CrossEntropyLoss\n",
      "Optimizer : Adam\n"
     ]
    },
    {
     "name": "stderr",
     "output_type": "stream",
     "text": [
      "Epoch 20 | Train Loss: 4.5924 | Train Accuracy: 0.80% | Val Loss/ Min: 7.0700/0.3385 | Val Accuracy: 0.85% | New Best? False:  38%|███▊      | 19/50 [07:58<13:00, 25.16s/it]   \n"
     ]
    },
    {
     "name": "stdout",
     "output_type": "stream",
     "text": [
      "\n",
      "--- Fold 4 ---\n",
      "Train Config:\n",
      "Epochs: 50\n",
      "Device: cuda\n",
      "Model Arch: MyDenseNet\n",
      "Criterion : CrossEntropyLoss\n",
      "Optimizer : Adam\n"
     ]
    },
    {
     "name": "stderr",
     "output_type": "stream",
     "text": [
      "Epoch 16 | Train Loss: 0.2490 | Train Accuracy: 0.91% | Val Loss/ Min: 0.4894/0.1216 | Val Accuracy: 0.90% | New Best? False:  30%|███       | 15/50 [06:26<15:01, 25.75s/it]\n"
     ]
    },
    {
     "name": "stdout",
     "output_type": "stream",
     "text": [
      "\n",
      "--- Fold 5 ---\n",
      "Train Config:\n",
      "Epochs: 50\n",
      "Device: cuda\n",
      "Model Arch: MyDenseNet\n",
      "Criterion : CrossEntropyLoss\n",
      "Optimizer : Adam\n"
     ]
    },
    {
     "name": "stderr",
     "output_type": "stream",
     "text": [
      "Epoch 50 | Train Loss: 0.1141 | Train Accuracy: 0.96% | Val Loss/ Min: 0.1575/0.1306 | Val Accuracy: 0.95% | New Best? False: 100%|██████████| 50/50 [19:34<00:00, 23.50s/it]  \n"
     ]
    }
   ],
   "source": [
    "densenet121_config = ExperimentConfig(\n",
    "    name=\"densenet121\",\n",
    "    model_fn=lambda: MyDenseNet(densenet_version='densenet121', n_classes=n_classes),\n",
    "    loss_fn=lambda: nn.CrossEntropyLoss(),\n",
    "    optimizer_fn=lambda params: opt.Adam(params, lr=1e-3)\n",
    ")\n",
    "experiment(densenet121_config, data_dict, device, metrics, freeze=False, epochs=50)"
   ]
  }
 ],
 "metadata": {
  "kernelspec": {
   "display_name": "Python 3",
   "language": "python",
   "name": "python3"
  },
  "language_info": {
   "codemirror_mode": {
    "name": "ipython",
    "version": 3
   },
   "file_extension": ".py",
   "mimetype": "text/x-python",
   "name": "python",
   "nbconvert_exporter": "python",
   "pygments_lexer": "ipython3",
   "version": "3.10.12"
  }
 },
 "nbformat": 4,
 "nbformat_minor": 2
}
