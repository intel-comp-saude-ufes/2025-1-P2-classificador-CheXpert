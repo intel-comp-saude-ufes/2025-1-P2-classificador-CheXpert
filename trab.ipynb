{
 "cells": [
  {
   "cell_type": "code",
   "execution_count": 1,
   "metadata": {},
   "outputs": [
    {
     "name": "stderr",
     "output_type": "stream",
     "text": [
      "/home/matheusmartin/.local/lib/python3.10/site-packages/tqdm/auto.py:21: TqdmWarning: IProgress not found. Please update jupyter and ipywidgets. See https://ipywidgets.readthedocs.io/en/stable/user_install.html\n",
      "  from .autonotebook import tqdm as notebook_tqdm\n"
     ]
    }
   ],
   "source": [
    "from lib.training import train\n",
    "from lib.data import get_data_chest_x_ray_image\n",
    "from lib.utils import get_device"
   ]
  },
  {
   "cell_type": "code",
   "execution_count": 8,
   "metadata": {},
   "outputs": [],
   "source": [
    "class ExperimentConfig:\n",
    "    def __init__(self, name, model_fn, loss_fn, optimizer_fn):\n",
    "        self.name = name\n",
    "        self.model_fn = model_fn\n",
    "        self.loss_fn = loss_fn\n",
    "        self.optimizer_fn = optimizer_fn"
   ]
  },
  {
   "cell_type": "code",
   "execution_count": null,
   "metadata": {},
   "outputs": [],
   "source": [
    "import os\n",
    "from torch.utils.data import Dataset, DataLoader, Subset\n",
    "from lib.data import TransformDataset\n",
    "\n",
    "def prepare_dataloaders(train_dataset : Dataset, val_dataset : Dataset):\n",
    "    num_workers = max(1,os.cpu_count()-1)\n",
    "    \n",
    "    train_dataloader = DataLoader(train_dataset, batch_size=128, shuffle=True, num_workers=num_workers, pin_memory=True)\n",
    "    val_dataloader = DataLoader(val_dataset, batch_size=128, shuffle=True, num_workers=num_workers, pin_memory=True)\n",
    "    return train_dataloader, val_dataloader\n",
    "\n",
    "def get_my_metrics(device, n_classes):\n",
    "    import torchmetrics\n",
    "    from lib.metrics import MetricCollection\n",
    "    \n",
    "    metrics = MetricCollection(device=device)\n",
    "    metrics.register('accuracy', torchmetrics.Accuracy(task='multiclass', num_classes=n_classes))\n",
    "    metrics.register('precision', torchmetrics.Precision(task='multiclass', num_classes=n_classes, average='macro'))\n",
    "    metrics.register('recall', torchmetrics.Recall(task='multiclass', num_classes=n_classes, average='macro'))\n",
    "    metrics.register('f1_score', torchmetrics.F1Score(task='multiclass', num_classes=n_classes, average='macro'))\n",
    "    \n",
    "    return metrics\n",
    "\n",
    "def experiment(config : ExperimentConfig, data_dict, device, metrics, freeze=False):\n",
    "    \n",
    "    save_path = f'{config.name}_folder'\n",
    "    os.makedirs(save_path, exist_ok=True)   \n",
    "    \n",
    "    folds = data_dict['folds']\n",
    "    base_dataset = data_dict['base_dataset']\n",
    "    train_transform = data_dict['train_transform']\n",
    "    val_transform = data_dict['val_transform']\n",
    "    \n",
    "    for fold_idx, (train_idx, val_idx) in enumerate(folds):\n",
    "        print(f\"\\n--- Fold {fold_idx+1} ---\")\n",
    "        \n",
    "        model = config.model_fn().to(device=device)\n",
    "        \n",
    "        if freeze: model.freeze()\n",
    "        else : model.unfreeze()\n",
    "\n",
    "        optimizer = config.optimizer_fn(model.parameters())\n",
    "        loss_fn = config.loss_fn()\n",
    "        \n",
    "        train_subset = Subset(base_dataset, train_idx)\n",
    "        val_subset = Subset(base_dataset, val_idx)\n",
    "\n",
    "        train_dataset = TransformDataset(train_subset, train_transform)\n",
    "        val_dataset = TransformDataset(val_subset, val_transform)\n",
    "\n",
    "        train_dataloader, val_dataloader = prepare_dataloaders(train_dataset, val_dataset)\n",
    "        \n",
    "        save_name = f'{config.name}_fold={fold_idx+1}.pt'\n",
    "        \n",
    "        history, model = train(\n",
    "            model, train_dataloader, val_dataloader,\n",
    "            loss_fn, optimizer,\n",
    "            save_path=save_path, save_name=save_name,\n",
    "            device=device, metrics=metrics, verbose=True\n",
    "        )"
   ]
  },
  {
   "cell_type": "code",
   "execution_count": 3,
   "metadata": {},
   "outputs": [],
   "source": [
    "data_dict = get_data_chest_x_ray_image(img_size=(224, 224), kfold=5)    "
   ]
  },
  {
   "cell_type": "code",
   "execution_count": 4,
   "metadata": {},
   "outputs": [],
   "source": [
    "device = get_device()"
   ]
  },
  {
   "cell_type": "code",
   "execution_count": null,
   "metadata": {},
   "outputs": [],
   "source": [
    "from lib.models import MyResnet18\n",
    "from torch import nn \n",
    "import torch.optim as opt\n",
    "\n",
    "n_classes = len(data_dict['classes'])\n",
    "\n",
    "metrics = get_my_metrics(device, n_classes)\n",
    "\n",
    "resnet18_config = ExperimentConfig(\n",
    "    name=\"resnet18\",\n",
    "    model_fn=lambda: MyResnet18(n_classes=n_classes),\n",
    "    loss_fn=lambda: nn.CrossEntropyLoss(),\n",
    "    optimizer_fn=lambda params: opt.Adam(params, lr=1e-3)\n",
    ")\n",
    "            \n",
    "experiment(resnet18_config, data_dict, device, metrics, freeze=False)\n",
    "\n",
    "resnet18_freeze_config = ExperimentConfig(\n",
    "    name=\"resnet18_freeze\",\n",
    "    model_fn=lambda: MyResnet18(n_classes=n_classes),\n",
    "    loss_fn=lambda: nn.CrossEntropyLoss(),\n",
    "    optimizer_fn=lambda params: opt.Adam(params, lr=1e-3)\n",
    ")\n",
    "\n",
    "experiment(resnet18_freeze_config, data_dict, metrics, freeze=True)"
   ]
  }
 ],
 "metadata": {
  "kernelspec": {
   "display_name": "Python 3",
   "language": "python",
   "name": "python3"
  },
  "language_info": {
   "codemirror_mode": {
    "name": "ipython",
    "version": 3
   },
   "file_extension": ".py",
   "mimetype": "text/x-python",
   "name": "python",
   "nbconvert_exporter": "python",
   "pygments_lexer": "ipython3",
   "version": "3.10.12"
  }
 },
 "nbformat": 4,
 "nbformat_minor": 2
}
